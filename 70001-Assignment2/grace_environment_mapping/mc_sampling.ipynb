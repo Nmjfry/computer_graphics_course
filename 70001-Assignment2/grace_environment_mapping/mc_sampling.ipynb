{
 "cells": [
  {
   "cell_type": "code",
   "execution_count": 6,
   "metadata": {},
   "outputs": [],
   "source": [
    "\n",
    "import image_reader as ir\n",
    "import numpy as np\n",
    "import os\n",
    "import math\n",
    "import matplotlib.pyplot as plt\n",
    "import random\n",
    "\n",
    "def plot_pdf(intensities, domain):\n",
    "\tplt.figure(figsize=(8, 8))\n",
    "\tplt.plot(np.linspace(0, domain, len(intensities)), intensities, color='magenta', linewidth=2)\n",
    "\tplt.xlabel(r'$\\theta$', fontsize=22)\n",
    "\tplt.ylabel('Energy p(X)', fontsize=22)\n",
    "\tplt.title('Probability Density Function (PDF) of Rows', fontsize=22, pad=25)\n",
    "\tplt.grid(True, color='white', alpha=.5)\n",
    "\tplt.gca().set_facecolor('black')\n",
    "\tplt.tick_params(axis='both', which='major', labelsize=14)\n",
    "\tplt.xlim(0, domain)\n",
    "\tplt.ylim(0, np.max(intensities))\n",
    "\t# plt.xticks(np.arange(0, 1.1, 0.1))\n",
    "\ty_increment = np.max(intensities) / 10\n",
    "\tplt.yticks(np.arange(0, np.max(intensities) + y_increment, y_increment))\n",
    "\tplt.show()\n",
    "\n",
    "def plot_cdf(cdf, domain):\n",
    "\tplt.figure(figsize=(8, 8))\n",
    "\tplt.plot(np.linspace(0, domain, len(cdf)), cdf, color='magenta', linewidth=2)\n",
    "\tplt.xlabel(r'$\\theta$', fontsize=22)\n",
    "\tplt.ylabel('Energy p(X)', fontsize=22)\n",
    "\tplt.title('Cumulative Distribution Function (CDF) of Intensities', fontsize=22, pad=25)\n",
    "\tplt.grid(True, color='white', alpha=.5)\n",
    "\tplt.gca().set_facecolor('black')\n",
    "\tplt.tick_params(axis='both', which='major', labelsize=14)\n",
    "\tplt.xlim(0, domain)\n",
    "\tplt.ylim(0, 1)\n",
    "\tplt.yticks(np.arange(0, 1.1, 0.1))\n",
    "\tplt.show()\n",
    "\n",
    "def gamma_correction(image, gamma=2.2):\n",
    "\treturn np.power(image, 1 / gamma)\n",
    "\n",
    "def clamp(image):\n",
    "\treturn np.clip(image, 0, 1)\n",
    "\n",
    "def pfm_to_ppm(image, scaling_factor=1):\n",
    "    return (gamma_correction(image / scaling_factor, 2.2) * 255).astype(np.uint8)"
   ]
  },
  {
   "cell_type": "code",
   "execution_count": 3,
   "metadata": {},
   "outputs": [
    {
     "name": "stdout",
     "output_type": "stream",
     "text": [
      "(512, 1024, 3)\n"
     ]
    }
   ],
   "source": [
    "grace_path = os.path.join(\"..\", \"GraceCathedral\", \"grace_latlong.pfm\")\n",
    "grace_pfm = ir.read_pfm(grace_path)\n",
    "print(grace_pfm.shape)\n",
    "pixel_extent = 5\n"
   ]
  },
  {
   "cell_type": "code",
   "execution_count": 8,
   "metadata": {},
   "outputs": [
    {
     "name": "stdout",
     "output_type": "stream",
     "text": [
      "1.0\n"
     ]
    }
   ],
   "source": [
    "intensities = [np.sum(grace_pfm[i]) * math.sin(math.pi * i / grace_pfm.shape[0]) for i in range(grace_pfm.shape[0])]\n",
    "intensities /= np.sum(intensities)\n",
    "cdf = np.cumsum(intensities)\n",
    "# plot_pdf(intensities, math.pi)\n",
    "# plot_cdf(cdf, math.pi)\n",
    "\n",
    "clamped_grace = clamp(grace_pfm)\n",
    "scaling_factor = np.max(clamped_grace)\n",
    "print(scaling_factor)\n",
    "for samples in [64,256,1024]:\n",
    "\tgrace_sampled = clamped_grace.copy()\n",
    "\tif samples == 256:\n",
    "\t\tgrace_copy = np.zeros(clamped_grace.shape).astype(np.float32)\n",
    "\n",
    "\tfor i in range(samples):\n",
    "\t\t\n",
    "\t\trandrow = np.searchsorted(cdf, random.uniform(0, 1))\n",
    "\n",
    "\t\tsampled_row = [sum(p) for p in clamped_grace[randrow]]\n",
    "\t\tsampled_row /= np.sum(sampled_row)\n",
    "\t\trow_cdf = np.cumsum(sampled_row)\n",
    "\n",
    "\t\trandcol = np.searchsorted(row_cdf, random.uniform(0, 1))\n",
    "\n",
    "\t\t# plot_pdf(sampled_row, 2*math.pi)\n",
    "\t\t# plot_cdf(row_cdf, 2*math.pi)\n",
    "\t\t\n",
    "\n",
    "\t\tfor i in range(pixel_extent):\n",
    "\t\t\tfor j in range(pixel_extent):\n",
    "\t\t\t\tedge = pixel_extent // 2\n",
    "\t\t\t\tif randrow - edge + i >= 0 and randrow - edge + i < clamped_grace.shape[0] and randcol - edge + j >= 0 and randcol - edge + j < clamped_grace.shape[1]:\n",
    "\t\t\t\t\tgrace_sampled[randrow - edge + i, randcol - edge + j] = [0, 0, 1]\n",
    "\n",
    "\t\t\t\t\tif samples == 256:\n",
    "\t\t\t\t\t\tgrace_copy[randrow - edge + i, randcol - edge + j] = clamped_grace[randrow - edge + i, randcol - edge + j]\n",
    "\t\n",
    "\t\n",
    "\tir.write_pfm(gamma_correction(grace_sampled), f\"output/grace_sampled_{samples}.pfm\")\n",
    "\tir.write_ppm(pfm_to_ppm(grace_sampled, scaling_factor), f\"output/grace_sampled_{samples}.ppm\")\n",
    " \n",
    "\tif samples == 256:\n",
    "\t\tir.write_pfm(gamma_correction(grace_copy), f\"output/selected_samples.pfm\")\n",
    "\t\tir.write_ppm(pfm_to_ppm(grace_copy, scaling_factor), f\"output/selected_samples.ppm\")\n",
    "\n",
    "\n"
   ]
  }
 ],
 "metadata": {
  "kernelspec": {
   "display_name": "Python 3",
   "language": "python",
   "name": "python3"
  },
  "language_info": {
   "codemirror_mode": {
    "name": "ipython",
    "version": 3
   },
   "file_extension": ".py",
   "mimetype": "text/x-python",
   "name": "python",
   "nbconvert_exporter": "python",
   "pygments_lexer": "ipython3",
   "version": "3.8.10"
  }
 },
 "nbformat": 4,
 "nbformat_minor": 2
}
